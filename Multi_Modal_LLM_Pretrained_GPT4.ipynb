{
 "cells": [
  {
   "cell_type": "code",
   "execution_count": 5,
   "metadata": {},
   "outputs": [],
   "source": [
    "# !pip install pytesseract opencv-python"
   ]
  },
  {
   "cell_type": "code",
   "execution_count": 6,
   "metadata": {},
   "outputs": [
    {
     "name": "stdout",
     "output_type": "stream",
     "text": [
      "Requirement already satisfied: efficientnet_pytorch in c:\\users\\arvin.karpiah\\appdata\\local\\packages\\pythonsoftwarefoundation.python.3.11_qbz5n2kfra8p0\\localcache\\local-packages\\python311\\site-packages (0.7.1)\n",
      "Requirement already satisfied: torch in c:\\users\\arvin.karpiah\\appdata\\local\\packages\\pythonsoftwarefoundation.python.3.11_qbz5n2kfra8p0\\localcache\\local-packages\\python311\\site-packages (from efficientnet_pytorch) (2.4.0)\n",
      "Requirement already satisfied: filelock in c:\\users\\arvin.karpiah\\appdata\\local\\packages\\pythonsoftwarefoundation.python.3.11_qbz5n2kfra8p0\\localcache\\local-packages\\python311\\site-packages (from torch->efficientnet_pytorch) (3.15.4)\n",
      "Requirement already satisfied: typing-extensions>=4.8.0 in c:\\users\\arvin.karpiah\\appdata\\local\\packages\\pythonsoftwarefoundation.python.3.11_qbz5n2kfra8p0\\localcache\\local-packages\\python311\\site-packages (from torch->efficientnet_pytorch) (4.12.1)\n",
      "Requirement already satisfied: sympy in c:\\users\\arvin.karpiah\\appdata\\local\\packages\\pythonsoftwarefoundation.python.3.11_qbz5n2kfra8p0\\localcache\\local-packages\\python311\\site-packages (from torch->efficientnet_pytorch) (1.13.1)\n",
      "Requirement already satisfied: networkx in c:\\users\\arvin.karpiah\\appdata\\local\\packages\\pythonsoftwarefoundation.python.3.11_qbz5n2kfra8p0\\localcache\\local-packages\\python311\\site-packages (from torch->efficientnet_pytorch) (3.3)\n",
      "Requirement already satisfied: jinja2 in c:\\users\\arvin.karpiah\\appdata\\local\\packages\\pythonsoftwarefoundation.python.3.11_qbz5n2kfra8p0\\localcache\\local-packages\\python311\\site-packages (from torch->efficientnet_pytorch) (3.1.4)\n",
      "Requirement already satisfied: fsspec in c:\\users\\arvin.karpiah\\appdata\\local\\packages\\pythonsoftwarefoundation.python.3.11_qbz5n2kfra8p0\\localcache\\local-packages\\python311\\site-packages (from torch->efficientnet_pytorch) (2024.6.1)\n",
      "Requirement already satisfied: MarkupSafe>=2.0 in c:\\users\\arvin.karpiah\\appdata\\local\\packages\\pythonsoftwarefoundation.python.3.11_qbz5n2kfra8p0\\localcache\\local-packages\\python311\\site-packages (from jinja2->torch->efficientnet_pytorch) (2.1.5)\n",
      "Requirement already satisfied: mpmath<1.4,>=1.1.0 in c:\\users\\arvin.karpiah\\appdata\\local\\packages\\pythonsoftwarefoundation.python.3.11_qbz5n2kfra8p0\\localcache\\local-packages\\python311\\site-packages (from sympy->torch->efficientnet_pytorch) (1.3.0)\n"
     ]
    },
    {
     "name": "stderr",
     "output_type": "stream",
     "text": [
      "WARNING: Ignoring invalid distribution ~ (C:\\Users\\arvin.karpiah\\AppData\\Local\\Packages\\PythonSoftwareFoundation.Python.3.11_qbz5n2kfra8p0\\LocalCache\\local-packages\\Python311\\site-packages)\n",
      "WARNING: Ignoring invalid distribution ~ywin32 (C:\\Users\\arvin.karpiah\\AppData\\Local\\Packages\\PythonSoftwareFoundation.Python.3.11_qbz5n2kfra8p0\\LocalCache\\local-packages\\Python311\\site-packages)\n",
      "WARNING: Ignoring invalid distribution ~ (C:\\Users\\arvin.karpiah\\AppData\\Local\\Packages\\PythonSoftwareFoundation.Python.3.11_qbz5n2kfra8p0\\LocalCache\\local-packages\\Python311\\site-packages)\n",
      "WARNING: Ignoring invalid distribution ~ywin32 (C:\\Users\\arvin.karpiah\\AppData\\Local\\Packages\\PythonSoftwareFoundation.Python.3.11_qbz5n2kfra8p0\\LocalCache\\local-packages\\Python311\\site-packages)\n",
      "WARNING: Ignoring invalid distribution ~ (C:\\Users\\arvin.karpiah\\AppData\\Local\\Packages\\PythonSoftwareFoundation.Python.3.11_qbz5n2kfra8p0\\LocalCache\\local-packages\\Python311\\site-packages)\n",
      "WARNING: Ignoring invalid distribution ~ywin32 (C:\\Users\\arvin.karpiah\\AppData\\Local\\Packages\\PythonSoftwareFoundation.Python.3.11_qbz5n2kfra8p0\\LocalCache\\local-packages\\Python311\\site-packages)\n",
      "WARNING: Ignoring invalid distribution ~ (C:\\Users\\arvin.karpiah\\AppData\\Local\\Packages\\PythonSoftwareFoundation.Python.3.11_qbz5n2kfra8p0\\LocalCache\\local-packages\\Python311\\site-packages)\n",
      "WARNING: Ignoring invalid distribution ~ywin32 (C:\\Users\\arvin.karpiah\\AppData\\Local\\Packages\\PythonSoftwareFoundation.Python.3.11_qbz5n2kfra8p0\\LocalCache\\local-packages\\Python311\\site-packages)\n",
      "\n",
      "[notice] A new release of pip is available: 24.2 -> 24.3.1\n",
      "[notice] To update, run: C:\\Users\\arvin.karpiah\\AppData\\Local\\Microsoft\\WindowsApps\\PythonSoftwareFoundation.Python.3.11_qbz5n2kfra8p0\\python.exe -m pip install --upgrade pip\n"
     ]
    }
   ],
   "source": [
    "from dependencies import *\n",
    "from functionsAK import *\n",
    "!pip install efficientnet_pytorch"
   ]
  },
  {
   "cell_type": "code",
   "execution_count": 7,
   "metadata": {},
   "outputs": [
    {
     "name": "stdout",
     "output_type": "stream",
     "text": [
      "Loaded pretrained weights for efficientnet-b0\n"
     ]
    },
    {
     "name": "stderr",
     "output_type": "stream",
     "text": [
      "Epoch 1/10000: 100%|██████████| 44/44 [00:04<00:00,  9.93it/s]\n"
     ]
    },
    {
     "name": "stdout",
     "output_type": "stream",
     "text": [
      "Epoch [1/10000], Training Loss: 110.1460, Validation Loss: 110.0010, MAE: 110.0010\n",
      "Model saved to best_model.pth\n"
     ]
    },
    {
     "name": "stderr",
     "output_type": "stream",
     "text": [
      "Epoch 2/10000: 100%|██████████| 44/44 [00:03<00:00, 11.10it/s]\n"
     ]
    },
    {
     "name": "stdout",
     "output_type": "stream",
     "text": [
      "Epoch [2/10000], Training Loss: 96.3726, Validation Loss: 75.2708, MAE: 75.2708\n",
      "Model saved to best_model.pth\n"
     ]
    },
    {
     "name": "stderr",
     "output_type": "stream",
     "text": [
      "Epoch 3/10000: 100%|██████████| 44/44 [00:04<00:00, 10.67it/s]\n"
     ]
    },
    {
     "name": "stdout",
     "output_type": "stream",
     "text": [
      "Epoch [3/10000], Training Loss: 53.3481, Validation Loss: 59.8401, MAE: 59.8401\n",
      "Model saved to best_model.pth\n"
     ]
    },
    {
     "name": "stderr",
     "output_type": "stream",
     "text": [
      "Epoch 4/10000: 100%|██████████| 44/44 [00:04<00:00, 10.35it/s]\n"
     ]
    },
    {
     "name": "stdout",
     "output_type": "stream",
     "text": [
      "Epoch [4/10000], Training Loss: 36.2595, Validation Loss: 54.3852, MAE: 54.3852\n",
      "Model saved to best_model.pth\n"
     ]
    },
    {
     "name": "stderr",
     "output_type": "stream",
     "text": [
      "Epoch 5/10000: 100%|██████████| 44/44 [00:04<00:00, 10.58it/s]\n"
     ]
    },
    {
     "name": "stdout",
     "output_type": "stream",
     "text": [
      "Epoch [5/10000], Training Loss: 26.1373, Validation Loss: 50.1116, MAE: 50.1116\n",
      "Model saved to best_model.pth\n"
     ]
    },
    {
     "name": "stderr",
     "output_type": "stream",
     "text": [
      "Epoch 6/10000: 100%|██████████| 44/44 [00:04<00:00, 10.37it/s]\n"
     ]
    },
    {
     "name": "stdout",
     "output_type": "stream",
     "text": [
      "Epoch [6/10000], Training Loss: 16.8025, Validation Loss: 42.2565, MAE: 42.2565\n",
      "Model saved to best_model.pth\n"
     ]
    },
    {
     "name": "stderr",
     "output_type": "stream",
     "text": [
      "Epoch 7/10000: 100%|██████████| 44/44 [00:04<00:00, 10.45it/s]\n"
     ]
    },
    {
     "name": "stdout",
     "output_type": "stream",
     "text": [
      "Epoch [7/10000], Training Loss: 10.7313, Validation Loss: 47.8121, MAE: 47.8121\n"
     ]
    },
    {
     "name": "stderr",
     "output_type": "stream",
     "text": [
      "Epoch 8/10000: 100%|██████████| 44/44 [00:04<00:00, 10.31it/s]\n"
     ]
    },
    {
     "name": "stdout",
     "output_type": "stream",
     "text": [
      "Epoch [8/10000], Training Loss: 8.4469, Validation Loss: 43.2612, MAE: 43.2612\n"
     ]
    },
    {
     "name": "stderr",
     "output_type": "stream",
     "text": [
      "Epoch 9/10000: 100%|██████████| 44/44 [00:04<00:00, 10.36it/s]\n"
     ]
    },
    {
     "name": "stdout",
     "output_type": "stream",
     "text": [
      "Epoch [9/10000], Training Loss: 6.2400, Validation Loss: 39.9638, MAE: 39.9638\n",
      "Model saved to best_model.pth\n"
     ]
    },
    {
     "name": "stderr",
     "output_type": "stream",
     "text": [
      "Epoch 10/10000: 100%|██████████| 44/44 [00:04<00:00, 10.40it/s]\n"
     ]
    },
    {
     "name": "stdout",
     "output_type": "stream",
     "text": [
      "Epoch [10/10000], Training Loss: 5.9415, Validation Loss: 26.8322, MAE: 26.8322\n",
      "Model saved to best_model.pth\n"
     ]
    },
    {
     "name": "stderr",
     "output_type": "stream",
     "text": [
      "Epoch 11/10000: 100%|██████████| 44/44 [00:04<00:00, 10.30it/s]\n"
     ]
    },
    {
     "name": "stdout",
     "output_type": "stream",
     "text": [
      "Epoch [11/10000], Training Loss: 5.2529, Validation Loss: 27.2793, MAE: 27.2793\n"
     ]
    },
    {
     "name": "stderr",
     "output_type": "stream",
     "text": [
      "Epoch 12/10000: 100%|██████████| 44/44 [00:04<00:00, 10.54it/s]\n"
     ]
    },
    {
     "name": "stdout",
     "output_type": "stream",
     "text": [
      "Epoch [12/10000], Training Loss: 5.8563, Validation Loss: 18.8156, MAE: 18.8156\n",
      "Model saved to best_model.pth\n"
     ]
    },
    {
     "name": "stderr",
     "output_type": "stream",
     "text": [
      "Epoch 13/10000: 100%|██████████| 44/44 [00:04<00:00, 10.80it/s]\n"
     ]
    },
    {
     "name": "stdout",
     "output_type": "stream",
     "text": [
      "Epoch [13/10000], Training Loss: 5.7697, Validation Loss: 24.1744, MAE: 24.1744\n"
     ]
    },
    {
     "name": "stderr",
     "output_type": "stream",
     "text": [
      "Epoch 14/10000: 100%|██████████| 44/44 [00:04<00:00, 10.27it/s]\n"
     ]
    },
    {
     "name": "stdout",
     "output_type": "stream",
     "text": [
      "Epoch [14/10000], Training Loss: 4.7214, Validation Loss: 15.3807, MAE: 15.3807\n",
      "Model saved to best_model.pth\n"
     ]
    },
    {
     "name": "stderr",
     "output_type": "stream",
     "text": [
      "Epoch 15/10000: 100%|██████████| 44/44 [00:04<00:00, 10.52it/s]\n"
     ]
    },
    {
     "name": "stdout",
     "output_type": "stream",
     "text": [
      "Epoch [15/10000], Training Loss: 4.5103, Validation Loss: 14.7669, MAE: 14.7669\n",
      "Model saved to best_model.pth\n"
     ]
    },
    {
     "name": "stderr",
     "output_type": "stream",
     "text": [
      "Epoch 16/10000: 100%|██████████| 44/44 [00:04<00:00, 10.75it/s]\n"
     ]
    },
    {
     "name": "stdout",
     "output_type": "stream",
     "text": [
      "Epoch [16/10000], Training Loss: 4.5309, Validation Loss: 14.7455, MAE: 14.7455\n",
      "Model saved to best_model.pth\n"
     ]
    },
    {
     "name": "stderr",
     "output_type": "stream",
     "text": [
      "Epoch 17/10000: 100%|██████████| 44/44 [00:04<00:00, 10.22it/s]\n"
     ]
    },
    {
     "name": "stdout",
     "output_type": "stream",
     "text": [
      "Epoch [17/10000], Training Loss: 4.2085, Validation Loss: 11.3484, MAE: 11.3484\n",
      "Model saved to best_model.pth\n"
     ]
    },
    {
     "name": "stderr",
     "output_type": "stream",
     "text": [
      "Epoch 18/10000: 100%|██████████| 44/44 [00:04<00:00, 10.62it/s]\n"
     ]
    },
    {
     "name": "stdout",
     "output_type": "stream",
     "text": [
      "Epoch [18/10000], Training Loss: 4.9755, Validation Loss: 10.6337, MAE: 10.6337\n",
      "Model saved to best_model.pth\n"
     ]
    },
    {
     "name": "stderr",
     "output_type": "stream",
     "text": [
      "Epoch 19/10000: 100%|██████████| 44/44 [00:04<00:00, 10.15it/s]\n"
     ]
    },
    {
     "name": "stdout",
     "output_type": "stream",
     "text": [
      "Epoch [19/10000], Training Loss: 4.9010, Validation Loss: 11.6696, MAE: 11.6696\n"
     ]
    },
    {
     "name": "stderr",
     "output_type": "stream",
     "text": [
      "Epoch 20/10000: 100%|██████████| 44/44 [00:04<00:00, 10.16it/s]\n"
     ]
    },
    {
     "name": "stdout",
     "output_type": "stream",
     "text": [
      "Epoch [20/10000], Training Loss: 3.9222, Validation Loss: 9.7237, MAE: 9.7237\n",
      "Model saved to best_model.pth\n"
     ]
    },
    {
     "name": "stderr",
     "output_type": "stream",
     "text": [
      "Epoch 21/10000: 100%|██████████| 44/44 [00:04<00:00, 10.15it/s]\n"
     ]
    },
    {
     "name": "stdout",
     "output_type": "stream",
     "text": [
      "Epoch [21/10000], Training Loss: 3.8581, Validation Loss: 12.3619, MAE: 12.3619\n"
     ]
    },
    {
     "name": "stderr",
     "output_type": "stream",
     "text": [
      "Epoch 22/10000: 100%|██████████| 44/44 [00:04<00:00, 10.42it/s]\n"
     ]
    },
    {
     "name": "stdout",
     "output_type": "stream",
     "text": [
      "Epoch [22/10000], Training Loss: 4.9411, Validation Loss: 5.3695, MAE: 5.3695\n",
      "Model saved to best_model.pth\n"
     ]
    },
    {
     "name": "stderr",
     "output_type": "stream",
     "text": [
      "Epoch 23/10000: 100%|██████████| 44/44 [00:04<00:00, 10.57it/s]\n"
     ]
    },
    {
     "name": "stdout",
     "output_type": "stream",
     "text": [
      "Epoch [23/10000], Training Loss: 4.0995, Validation Loss: 5.4634, MAE: 5.4634\n"
     ]
    },
    {
     "name": "stderr",
     "output_type": "stream",
     "text": [
      "Epoch 24/10000: 100%|██████████| 44/44 [00:04<00:00,  9.74it/s]\n"
     ]
    },
    {
     "name": "stdout",
     "output_type": "stream",
     "text": [
      "Epoch [24/10000], Training Loss: 3.6097, Validation Loss: 9.1273, MAE: 9.1273\n"
     ]
    },
    {
     "name": "stderr",
     "output_type": "stream",
     "text": [
      "Epoch 25/10000: 100%|██████████| 44/44 [00:04<00:00,  9.72it/s]\n"
     ]
    },
    {
     "name": "stdout",
     "output_type": "stream",
     "text": [
      "Epoch [25/10000], Training Loss: 3.7559, Validation Loss: 6.8399, MAE: 6.8399\n"
     ]
    },
    {
     "name": "stderr",
     "output_type": "stream",
     "text": [
      "Epoch 26/10000: 100%|██████████| 44/44 [00:04<00:00,  9.74it/s]\n"
     ]
    },
    {
     "name": "stdout",
     "output_type": "stream",
     "text": [
      "Epoch [26/10000], Training Loss: 3.6688, Validation Loss: 6.9232, MAE: 6.9232\n"
     ]
    },
    {
     "name": "stderr",
     "output_type": "stream",
     "text": [
      "Epoch 27/10000: 100%|██████████| 44/44 [00:04<00:00,  9.76it/s]\n"
     ]
    },
    {
     "name": "stdout",
     "output_type": "stream",
     "text": [
      "Epoch [27/10000], Training Loss: 3.2216, Validation Loss: 4.0630, MAE: 4.0630\n",
      "Model saved to best_model.pth\n"
     ]
    },
    {
     "name": "stderr",
     "output_type": "stream",
     "text": [
      "Epoch 28/10000: 100%|██████████| 44/44 [00:04<00:00,  9.79it/s]\n"
     ]
    },
    {
     "name": "stdout",
     "output_type": "stream",
     "text": [
      "Epoch [28/10000], Training Loss: 3.1993, Validation Loss: 8.2451, MAE: 8.2451\n"
     ]
    },
    {
     "name": "stderr",
     "output_type": "stream",
     "text": [
      "Epoch 29/10000: 100%|██████████| 44/44 [00:04<00:00,  9.86it/s]\n"
     ]
    },
    {
     "name": "stdout",
     "output_type": "stream",
     "text": [
      "Epoch [29/10000], Training Loss: 2.7457, Validation Loss: 6.2742, MAE: 6.2742\n"
     ]
    },
    {
     "name": "stderr",
     "output_type": "stream",
     "text": [
      "Epoch 30/10000: 100%|██████████| 44/44 [00:04<00:00,  9.74it/s]\n"
     ]
    },
    {
     "name": "stdout",
     "output_type": "stream",
     "text": [
      "Epoch [30/10000], Training Loss: 2.9563, Validation Loss: 7.3829, MAE: 7.3829\n"
     ]
    },
    {
     "name": "stderr",
     "output_type": "stream",
     "text": [
      "Epoch 31/10000: 100%|██████████| 44/44 [00:04<00:00,  9.69it/s]\n"
     ]
    },
    {
     "name": "stdout",
     "output_type": "stream",
     "text": [
      "Epoch [31/10000], Training Loss: 3.0236, Validation Loss: 5.3137, MAE: 5.3137\n"
     ]
    },
    {
     "name": "stderr",
     "output_type": "stream",
     "text": [
      "Epoch 32/10000: 100%|██████████| 44/44 [00:04<00:00,  9.79it/s]\n"
     ]
    },
    {
     "name": "stdout",
     "output_type": "stream",
     "text": [
      "Epoch [32/10000], Training Loss: 2.8194, Validation Loss: 6.7360, MAE: 6.7360\n"
     ]
    },
    {
     "name": "stderr",
     "output_type": "stream",
     "text": [
      "Epoch 33/10000: 100%|██████████| 44/44 [00:04<00:00,  9.65it/s]\n"
     ]
    },
    {
     "name": "stdout",
     "output_type": "stream",
     "text": [
      "Epoch [33/10000], Training Loss: 2.4069, Validation Loss: 4.7266, MAE: 4.7266\n"
     ]
    },
    {
     "name": "stderr",
     "output_type": "stream",
     "text": [
      "Epoch 34/10000: 100%|██████████| 44/44 [00:04<00:00,  9.65it/s]\n"
     ]
    },
    {
     "name": "stdout",
     "output_type": "stream",
     "text": [
      "Epoch [34/10000], Training Loss: 2.3527, Validation Loss: 5.6319, MAE: 5.6319\n"
     ]
    },
    {
     "name": "stderr",
     "output_type": "stream",
     "text": [
      "Epoch 35/10000: 100%|██████████| 44/44 [00:04<00:00,  9.85it/s]\n"
     ]
    },
    {
     "name": "stdout",
     "output_type": "stream",
     "text": [
      "Epoch [35/10000], Training Loss: 2.4120, Validation Loss: 4.5203, MAE: 4.5203\n"
     ]
    },
    {
     "name": "stderr",
     "output_type": "stream",
     "text": [
      "Epoch 36/10000: 100%|██████████| 44/44 [00:04<00:00,  9.72it/s]\n"
     ]
    },
    {
     "name": "stdout",
     "output_type": "stream",
     "text": [
      "Epoch [36/10000], Training Loss: 2.4050, Validation Loss: 6.1704, MAE: 6.1704\n"
     ]
    },
    {
     "name": "stderr",
     "output_type": "stream",
     "text": [
      "Epoch 37/10000: 100%|██████████| 44/44 [00:04<00:00,  9.82it/s]\n"
     ]
    },
    {
     "name": "stdout",
     "output_type": "stream",
     "text": [
      "Epoch [37/10000], Training Loss: 2.3858, Validation Loss: 6.7124, MAE: 6.7124\n",
      "Early stopping at epoch 37\n"
     ]
    },
    {
     "data": {
      "image/png": "[encoded data removed]",
      "text/plain": [
       "<Figure size 1200x600 with 2 Axes>"
      ]
     },
     "metadata": {},
     "output_type": "display_data"
    }
   ],
   "source": [
    "import torch\n",
    "import torch.nn as nn\n",
    "import torch.optim as optim\n",
    "from torch.utils.data import DataLoader\n",
    "import matplotlib.pyplot as plt\n",
    "from sklearn.model_selection import train_test_split\n",
    "from PIL import Image\n",
    "from torchvision import transforms, models\n",
    "from tqdm import tqdm\n",
    "import numpy as np\n",
    "import os\n",
    "\n",
    "# 1. Define Dataset class \n",
    "class MultiModalDataset(torch.utils.data.Dataset):\n",
    "    def __init__(self, image_paths, axis_info, transform=None):\n",
    "        self.image_paths = image_paths\n",
    "        self.axis_info = axis_info\n",
    "        self.transform = transform\n",
    "\n",
    "    def __len__(self):\n",
    "        return len(self.image_paths)\n",
    "\n",
    "    def __getitem__(self, idx):\n",
    "        img_path = self.image_paths[idx]\n",
    "        image = Image.open(img_path).convert('RGB')\n",
    "        axis_data = self.axis_info[os.path.basename(img_path)]\n",
    "\n",
    "        if self.transform:\n",
    "            image = self.transform(image)\n",
    "        \n",
    "        # Assuming axis_info['depth_range'] is a list of 60 depth values\n",
    "        depth_labels = torch.tensor(axis_data['depth_range'], dtype=torch.float32)\n",
    "        \n",
    "        return image, depth_labels\n",
    "\n",
    "from efficientnet_pytorch import EfficientNet\n",
    "\n",
    "class SeismicUNetEfficientNet(nn.Module):\n",
    "    def __init__(self, num_depth_points=60):\n",
    "        super(SeismicUNetEfficientNet, self).__init__()\n",
    "\n",
    "        # Using pre-trained EfficientNet-B0 as the feature extractor (encoder part)\n",
    "        self.encoder = EfficientNet.from_pretrained('efficientnet-b0')\n",
    "\n",
    "        # Define the decoder part (simple transpose convolutions)\n",
    "        self.decoder = nn.Sequential(\n",
    "            nn.ConvTranspose2d(1280, 512, kernel_size=3, stride=2, padding=1, output_padding=1),\n",
    "            nn.ReLU(),\n",
    "            nn.ConvTranspose2d(512, 256, kernel_size=3, stride=2, padding=1, output_padding=1),\n",
    "            nn.ReLU(),\n",
    "            nn.ConvTranspose2d(256, 128, kernel_size=3, stride=2, padding=1, output_padding=1),\n",
    "            nn.ReLU(),\n",
    "            nn.ConvTranspose2d(128, 64, kernel_size=3, stride=2, padding=1, output_padding=1),\n",
    "            nn.ReLU()\n",
    "        )\n",
    "\n",
    "        # Global average pooling to reduce spatial dimensions to 1x1\n",
    "        self.global_pool = nn.AdaptiveAvgPool2d((1, 1))  # This reduces the spatial size to 1x1\n",
    "\n",
    "        # Fully connected layer to output depth values (size: num_depth_points)\n",
    "        self.fc = nn.Linear(64, num_depth_points)\n",
    "\n",
    "    def forward(self, x):\n",
    "        # Pass through encoder (EfficientNet)\n",
    "        enc_out = self.encoder.extract_features(x)\n",
    "\n",
    "        # Pass through decoder\n",
    "        dec_out = self.decoder(enc_out)\n",
    "\n",
    "        # Apply global average pooling\n",
    "        pooled_out = self.global_pool(dec_out)\n",
    "\n",
    "        # Flatten the pooled output (batch_size, 64, 1, 1) -> (batch_size, 64)\n",
    "        pooled_out = pooled_out.view(pooled_out.size(0), -1)\n",
    "\n",
    "        # Pass through fully connected layer for depth prediction\n",
    "        depth_output = self.fc(pooled_out)\n",
    "\n",
    "        return depth_output\n",
    "    \n",
    "    # 3. Huber Loss Function\n",
    "class HuberLoss(nn.Module):\n",
    "    def __init__(self, delta=1.0):\n",
    "        super(HuberLoss, self).__init__()\n",
    "        self.delta = delta\n",
    "    \n",
    "    def forward(self, predictions, targets):\n",
    "        diff = torch.abs(predictions - targets)\n",
    "        loss = torch.where(diff < self.delta,\n",
    "                           0.5 * diff ** 2,\n",
    "                           self.delta * (diff - 0.5 * self.delta))\n",
    "        return loss.mean()\n",
    "\n",
    "\n",
    "# 4. Training Loop with Early Stopping, Gradient Clipping, and Loss Tracking\n",
    "def train_model(model, train_dataloader, val_dataloader, optimizer, criterion, scheduler, num_epochs=10000, patience=10, device='cuda'):\n",
    "    best_loss = float('inf')\n",
    "    patience_counter = 0\n",
    "    train_losses, val_losses = [], []\n",
    "    mae_values = []\n",
    "\n",
    "    for epoch in range(num_epochs):\n",
    "        model.train()\n",
    "        total_train_loss = 0\n",
    "\n",
    "        for src, tgt in tqdm(train_dataloader, desc=f\"Epoch {epoch + 1}/{num_epochs}\"):\n",
    "            src, tgt = src.to(device), tgt.to(device)\n",
    "            \n",
    "            optimizer.zero_grad()\n",
    "            output = model(src)\n",
    "            loss = criterion(output, tgt)\n",
    "            loss.backward()\n",
    "\n",
    "            torch.nn.utils.clip_grad_norm_(model.parameters(), max_norm=5.0)\n",
    "            optimizer.step()\n",
    "\n",
    "            total_train_loss += loss.item()\n",
    "\n",
    "        avg_train_loss = total_train_loss / len(train_dataloader)\n",
    "        train_losses.append(avg_train_loss)\n",
    "\n",
    "        model.eval()\n",
    "        total_val_loss = 0\n",
    "        total_mae = 0\n",
    "        with torch.no_grad():\n",
    "            for src, tgt in val_dataloader:\n",
    "                src, tgt = src.to(device), tgt.to(device)\n",
    "                output = model(src)\n",
    "                loss = criterion(output, tgt)\n",
    "                total_val_loss += loss.item()\n",
    "\n",
    "                # Calculate Mean Absolute Error (MAE)\n",
    "                total_mae += torch.abs(output - tgt).mean().item()\n",
    "\n",
    "        avg_val_loss = total_val_loss / len(val_dataloader)\n",
    "        mae_values.append(total_mae / len(val_dataloader))\n",
    "        val_losses.append(avg_val_loss)\n",
    "\n",
    "        print(f\"Epoch [{epoch + 1}/{num_epochs}], Training Loss: {avg_train_loss:.4f}, Validation Loss: {avg_val_loss:.4f}, MAE: {mae_values[-1]:.4f}\")\n",
    "\n",
    "        scheduler.step(avg_val_loss)\n",
    "\n",
    "        if avg_val_loss < best_loss:\n",
    "            best_loss = avg_val_loss\n",
    "            patience_counter = 0\n",
    "            save_model(model, 'best_model.pth')\n",
    "        else:\n",
    "            patience_counter += 1\n",
    "\n",
    "        if patience_counter >= patience:\n",
    "            print(f\"Early stopping at epoch {epoch + 1}\")\n",
    "            break\n",
    "\n",
    "    return train_losses, val_losses, mae_values\n",
    "\n",
    "\n",
    "# 5. Save and Load Model Functions\n",
    "def save_model(model, filename):\n",
    "    torch.save(model.state_dict(), filename)\n",
    "    print(f\"Model saved to {filename}\")\n",
    "\n",
    "def load_model(model, filename):\n",
    "    model.load_state_dict(torch.load(filename))\n",
    "    model.eval()\n",
    "    print(f\"Model loaded from {filename}\")\n",
    "\n",
    "\n",
    "# 6. Plotting Training Loss vs Epochs\n",
    "def plot_loss_vs_epoch(train_losses, val_losses, mae_values):\n",
    "    plt.figure(figsize=(12, 6))\n",
    "\n",
    "    plt.subplot(1, 2, 1)\n",
    "    plt.plot(train_losses, label='Training Loss')\n",
    "    plt.plot(val_losses, label='Validation Loss')\n",
    "    plt.xlabel('Epochs')\n",
    "    plt.ylabel('Loss')\n",
    "    plt.legend()\n",
    "    plt.grid(True)\n",
    "    \n",
    "    plt.subplot(1, 2, 2)\n",
    "    plt.plot(mae_values, label='Mean Absolute Error (MAE)')\n",
    "    plt.xlabel('Epochs')\n",
    "    plt.ylabel('MAE')\n",
    "    plt.legend()\n",
    "    plt.grid(True)\n",
    "\n",
    "    plt.tight_layout()\n",
    "    plt.show()\n",
    "\n",
    "\n",
    "# Main training loop\n",
    "if __name__ == '__main__':\n",
    "    # Define the directory where your images are stored\n",
    "    image_directory = r'C:\\Users\\arvin.karpiah\\Desktop\\Workbench\\Depth Prediction\\acc_images'\n",
    "\n",
    "    # Get all .png files from the directory\n",
    "    image_paths = [os.path.join(image_directory, filename) for filename in os.listdir(image_directory) if filename.endswith('.png')]\n",
    "    \n",
    "    # depth values (x axis of images)\n",
    "    depth_values = [80.7, 81.7, 82.7, 83.7, 84.7, 85.7, 86.7, 87.7, 88.7, 89.7,\n",
    "                    90.7, 91.7, 92.7, 93.7, 94.7, 95.7, 96.7, 97.7, 98.7, 99.7,\n",
    "                    100.7, 101.7, 102.7, 103.7, 104.7, 105.7, 106.7, 107.7, 108.7,\n",
    "                    109.7, 110.7, 111.7, 112.7, 113.7, 114.7, 115.7, 116.75, 117.8,\n",
    "                    118.8, 119.8, 120.8, 121.8, 122.8, 123.8, 124.8, 125.8, 126.8,\n",
    "                    127.8, 128.8, 129.8, 130.8, 131.8, 132.8, 133.8, 134.8, 135.8,\n",
    "                    136.8, 137.8, 138.8, 139.8]\n",
    "\n",
    "    # Dynamically create axis_info for each image\n",
    "    axis_info = {}\n",
    "    for image_path in image_paths:\n",
    "        filename = os.path.basename(image_path)\n",
    "        axis_info[filename] = {\n",
    "            \"time_range\": [0, 100, 200, 300, 400, 500, 600],  # Example time_range\n",
    "            \"depth_range\": depth_values  # Example depth_range, can be different per image\n",
    "        }\n",
    "\n",
    "    # Augmentation and transformation\n",
    "    transform = transforms.Compose([        \n",
    "        transforms.Resize((128, 128)),  # Resize images to the required size\n",
    "        transforms.RandomHorizontalFlip(),  # Randomly flip images horizontally\n",
    "        transforms.RandomRotation(15),  # Random rotation between -15 to +15 degrees\n",
    "        transforms.ColorJitter(brightness=0.2, contrast=0.2, saturation=0.2, hue=0.2),  # Random color jitter\n",
    "        transforms.RandomAffine(15, shear=5),  # Random affine transformation with reduced shear\n",
    "        transforms.ToTensor(),  # Convert image to Tensor\n",
    "        transforms.Normalize(mean=[0.5], std=[0.5])  # Normalize with mean and std (for grayscale)\n",
    "    ])\n",
    "\n",
    "    # Split into train and validation sets\n",
    "    train_paths, val_paths = train_test_split(image_paths, test_size=0.2, random_state=42)\n",
    "\n",
    "    # Create dataset and dataloaders\n",
    "    train_dataset = MultiModalDataset(train_paths, axis_info, transform=transform)\n",
    "    val_dataset = MultiModalDataset(val_paths, axis_info, transform=transform)\n",
    "    \n",
    "    train_loader = DataLoader(train_dataset, batch_size=4, shuffle=True)\n",
    "    val_loader = DataLoader(val_dataset, batch_size=4, shuffle=False)\n",
    "\n",
    "    # Initialize model, criterion, and optimizer\n",
    "    device = torch.device(\"cuda\" if torch.cuda.is_available() else \"cpu\")\n",
    "    model = SeismicUNetEfficientNet(num_depth_points=60).to(device)\n",
    "    criterion = nn.L1Loss()  # Use Mean Absolute Error (MAE) for better regression\n",
    "    optimizer = optim.AdamW(model.parameters(), lr=0.00005)\n",
    "\n",
    "    # Define the scheduler\n",
    "    scheduler = torch.optim.lr_scheduler.ReduceLROnPlateau(optimizer, mode='min', patience=3, factor=0.5, verbose=True)\n",
    "\n",
    "    # Train the model\n",
    "    train_losses, val_losses, mae_values = train_model(model, train_loader, val_loader, optimizer, criterion, scheduler, num_epochs=10000, patience=10, device=device)\n",
    "\n",
    "    # Plot training loss and MAE\n",
    "    plot_loss_vs_epoch(train_losses, val_losses, mae_values)\n"
   ]
  },
  {
   "cell_type": "code",
   "execution_count": null,
   "metadata": {},
   "outputs": [],
   "source": [
    "plt.figure(figsize=(10, 5))\n",
    "plt.plot(train_losses, label='Training Loss')\n",
    "plt.xlabel('Epochs')\n",
    "plt.ylabel('Loss')\n",
    "plt.title('Training Loss vs. Epoch')\n",
    "plt.legend()\n",
    "plt.grid(True)\n",
    "plt.show()"
   ]
  },
  {
   "cell_type": "code",
   "execution_count": 8,
   "metadata": {},
   "outputs": [
    {
     "name": "stdout",
     "output_type": "stream",
     "text": [
      "Model saved to shot_gather_depth_predictor_pretrained_80monwards.pth\n"
     ]
    }
   ],
   "source": [
    "# Save the model\n",
    "def save_model(model, path):\n",
    "    torch.save(model.state_dict(), path)\n",
    "    print(f\"Model saved to {path}\")\n",
    "\n",
    "# Save the trained model\n",
    "save_path = \"shot_gather_depth_predictor_pretrained_80monwards.pth\"\n",
    "save_model(model, save_path)\n"
   ]
  },
  {
   "cell_type": "markdown",
   "metadata": {},
   "source": [
    "Predict with model"
   ]
  },
  {
   "cell_type": "code",
   "execution_count": 9,
   "metadata": {},
   "outputs": [
    {
     "name": "stdout",
     "output_type": "stream",
     "text": [
      "Loaded pretrained weights for efficientnet-b0\n",
      "Model loaded from shot_gather_depth_predictor_pretrained_80monwards.pth\n",
      "Predicted depth labels: [ 71.44   72.371  73.228  74.106  75.07   75.908  76.749  77.646  78.557\n",
      "  79.455  80.352  81.195  82.126  83.003  83.882  84.758  85.581  86.493\n",
      "  87.38   88.265  89.223  90.079  90.928  91.896  92.822  93.602  94.503\n",
      "  95.381  96.254  97.142  98.014  98.957  99.834 100.717 101.581 102.476\n",
      " 103.442 104.292 105.217 106.174 107.026 107.917 108.784 109.658 110.469\n",
      " 111.445 112.274 113.284 114.049 114.978 115.867 116.742 117.572 118.514\n",
      " 119.432 120.239 121.168 122.067 122.984 123.8  ]\n"
     ]
    }
   ],
   "source": [
    "import torch\n",
    "import torch.nn as nn\n",
    "import torch.optim as optim\n",
    "import torch.nn.functional as F\n",
    "from torchvision import transforms, models\n",
    "from PIL import Image\n",
    "import numpy as np\n",
    "import os\n",
    "\n",
    "# Define the model architecture (should match the saved model)\n",
    "class MultiModalDataset(torch.utils.data.Dataset):\n",
    "    def __init__(self, image_paths, axis_info, transform=None):\n",
    "        self.image_paths = image_paths\n",
    "        self.axis_info = axis_info\n",
    "        self.transform = transform\n",
    "\n",
    "    def __len__(self):\n",
    "        return len(self.image_paths)\n",
    "\n",
    "    def __getitem__(self, idx):\n",
    "        img_path = self.image_paths[idx]\n",
    "        image = Image.open(img_path).convert('RGB')  # Convert to RGB\n",
    "        axis_data = self.axis_info[os.path.basename(img_path)]  # Extract axis info (depth, time)\n",
    "\n",
    "        if self.transform:\n",
    "            image = self.transform(image)\n",
    "        \n",
    "        # Return the image and the corresponding depth labels (vector)\n",
    "        depth_labels = torch.tensor(axis_data['depth_range'], dtype=torch.float32)\n",
    "        \n",
    "        return image, depth_labels\n",
    "\n",
    "\n",
    "# 2. Define Model with Pretrained ResNet18 Backbone\n",
    "from torchvision import models\n",
    "\n",
    "class SeismicUNetEfficientNet(nn.Module):\n",
    "    def __init__(self, num_depth_points=60):\n",
    "        super(SeismicUNetEfficientNet, self).__init__()\n",
    "\n",
    "        # Using pre-trained EfficientNet-B0 as the feature extractor (encoder part)\n",
    "        self.encoder = EfficientNet.from_pretrained('efficientnet-b0')\n",
    "\n",
    "        # Define the decoder part (simple transpose convolutions)\n",
    "        self.decoder = nn.Sequential(\n",
    "            nn.ConvTranspose2d(1280, 512, kernel_size=3, stride=2, padding=1, output_padding=1),\n",
    "            nn.ReLU(),\n",
    "            nn.ConvTranspose2d(512, 256, kernel_size=3, stride=2, padding=1, output_padding=1),\n",
    "            nn.ReLU(),\n",
    "            nn.ConvTranspose2d(256, 128, kernel_size=3, stride=2, padding=1, output_padding=1),\n",
    "            nn.ReLU(),\n",
    "            nn.ConvTranspose2d(128, 64, kernel_size=3, stride=2, padding=1, output_padding=1),\n",
    "            nn.ReLU()\n",
    "        )\n",
    "\n",
    "        # Global average pooling to reduce spatial dimensions to 1x1\n",
    "        self.global_pool = nn.AdaptiveAvgPool2d((1, 1))  # This reduces the spatial size to 1x1\n",
    "\n",
    "        # Fully connected layer to output depth values (size: num_depth_points)\n",
    "        self.fc = nn.Linear(64, num_depth_points)\n",
    "\n",
    "    def forward(self, x):\n",
    "        # Pass through encoder (EfficientNet)\n",
    "        enc_out = self.encoder.extract_features(x)\n",
    "\n",
    "        # Pass through decoder\n",
    "        dec_out = self.decoder(enc_out)\n",
    "\n",
    "        # Apply global average pooling\n",
    "        pooled_out = self.global_pool(dec_out)\n",
    "\n",
    "        # Flatten the pooled output (batch_size, 64, 1, 1) -> (batch_size, 64)\n",
    "        pooled_out = pooled_out.view(pooled_out.size(0), -1)\n",
    "\n",
    "        # Pass through fully connected layer for depth prediction\n",
    "        depth_output = self.fc(pooled_out)\n",
    "\n",
    "        return depth_output\n",
    "\n",
    "\n",
    "# Function to load the model\n",
    "def load_model(model, path, device='cuda'):\n",
    "    model.load_state_dict(torch.load(path, map_location=device))\n",
    "    model.eval()  # Set model to evaluation mode\n",
    "    print(f\"Model loaded from {path}\")\n",
    "    return model\n",
    "\n",
    "# Load the model\n",
    "device = \"cuda\"\n",
    "\n",
    "# Define the same model architecture (this should match the saved model)\n",
    "model = SeismicUNetEfficientNet(num_depth_points=60).to(device)\n",
    "\n",
    "# Load the trained model (make sure the path is correct)\n",
    "load_path = \"shot_gather_depth_predictor_pretrained_80monwards.pth\"  # Adjust path if needed\n",
    "model = load_model(model, load_path, device=device)\n",
    "\n",
    "# Ensure the model is on the correct device (GPU or CPU)\n",
    "model.to(device)\n",
    "\n",
    "# Function to predict depth labels for a new image\n",
    "def predict_depth(model, image_path, transform=None, device='cuda'):\n",
    "    # Load the image (ensure it is transformed if needed)\n",
    "    image = Image.open(image_path).convert('RGB')  # Convert to RGB if not already\n",
    "    if transform:\n",
    "        image = transform(image).unsqueeze(0)  # Add batch dimension (batch size 1)\n",
    "    image = image.to(device)  # Send image to GPU if using CUDA\n",
    "\n",
    "    # Make the prediction\n",
    "    with torch.no_grad():  # No gradient tracking needed during inference\n",
    "        model.eval()  # Set model to evaluation mode\n",
    "        prediction = model(image)  # Get predicted depth labels\n",
    "    \n",
    "    return prediction.squeeze().cpu().numpy()  # Return the entire depth vector (as NumPy array)\n",
    "\n",
    "# Example of predicting depth for a new shot gather image\n",
    "from torchvision import transforms\n",
    "\n",
    "transform = transforms.Compose([\n",
    "        transforms.Resize((128, 128)),  # Resize images to the required size\n",
    "        transforms.RandomHorizontalFlip(),  # Randomly flip images horizontally\n",
    "        transforms.RandomRotation(15),  # Random rotation between -15 to +15 degrees\n",
    "        transforms.ColorJitter(brightness=0.2, contrast=0.2, saturation=0.2, hue=0.2),  # Random color jitter\n",
    "        transforms.RandomAffine(15, shear=5),  # Random affine transformation with reduced shear\n",
    "        transforms.ToTensor(),  # Convert image to Tensor\n",
    "        transforms.Normalize(mean=[0.5], std=[0.5])  # Normalize with mean and std (for grayscale)\n",
    "    ])\n",
    "\n",
    "\n",
    "\n",
    "# new_image_path = r'C:\\Users\\arvin.karpiah\\Desktop\\Workbench\\Depth Prediction\\DAS_images\\DAS_8143.png'\n",
    "new_image_path = r'C:\\Users\\arvin.karpiah\\Desktop\\Workbench\\Depth Prediction\\acc_images\\ShotPoint=11155.png'\n",
    "predicted_depth = predict_depth(model, new_image_path, transform=transform, device=device)\n",
    "predicted_depth = np.round(predicted_depth, 3)\n",
    "\n",
    "print(f\"Predicted depth labels: {predicted_depth}\")\n"
   ]
  },
  {
   "cell_type": "code",
   "execution_count": 10,
   "metadata": {},
   "outputs": [
    {
     "data": {
      "image/png": "[encoded data removed]",
      "text/plain": [
       "<Figure size 640x480 with 1 Axes>"
      ]
     },
     "metadata": {},
     "output_type": "display_data"
    }
   ],
   "source": [
    "# from sklearn.metrics import mean_absolute_error, mean_squared_error, r2_score\n",
    "\n",
    "depth_values = depth_values = [80.7, 81.7, 82.7, 83.7, 84.7, 85.7, 86.7, 87.7, 88.7, 89.7,\n",
    "                         90.7, 91.7, 92.7, 93.7, 94.7, 95.7, 96.7, 97.7, 98.7, 99.7,\n",
    "                         100.7, 101.7, 102.7, 103.7, 104.7, 105.7, 106.7, 107.7, 108.7,\n",
    "                         109.7, 110.7, 111.7, 112.7, 113.7, 114.7, 115.7, 116.75, 117.8,\n",
    "                         118.8, 119.8, 120.8, 121.8, 122.8, 123.8, 124.8, 125.8, 126.8,\n",
    "                         127.8, 128.8, 129.8, 130.8, 131.8, 132.8, 133.8, 134.8, 135.8,\n",
    "                         136.8, 137.8, 138.8, 139.8]\n",
    "\n",
    "actuals = depth_values\n",
    "predictions = predicted_depth\n",
    "\n",
    "# Plot actual vs predicted values\n",
    "plt.plot(actuals, predictions, '.')\n",
    "x = np.linspace(min(actuals), max(actuals), 100)\n",
    "plt.plot(x, x, '--')  # y = x line\n",
    "plt.xlabel('Actual Values')\n",
    "plt.ylabel('Predicted Values')\n",
    "\n",
    "\n",
    "#Calculate metrics\n",
    "mae = mean_absolute_error(actuals, predictions)\n",
    "mse = mean_squared_error(actuals, predictions)\n",
    "rmse = np.sqrt(mse)\n",
    "r2 = r2_score(actuals, predictions)\n",
    "\n",
    "#Create a string with the statistics\n",
    "stats_text = f\"MAE: {mae:.3f}\\nMSE: {mse:.3f}\\nRMSE: {rmse:.3f}\\nR²: {r2:.3f}\"\n",
    "\n",
    "# Add the text to the plot\n",
    "plt.text(0.05, 0.95, stats_text, transform=plt.gca().transAxes, \n",
    "fontsize=12, verticalalignment='top', horizontalalignment='left', \n",
    "bbox=dict(facecolor='white', alpha=0.7, edgecolor='black', boxstyle='round,pad=0.5'))\n",
    "\n",
    "# Show the plot\n",
    "plt.show()\n"
   ]
  },
  {
   "cell_type": "markdown",
   "metadata": {},
   "source": [
    "Predict DAS"
   ]
  },
  {
   "cell_type": "code",
   "execution_count": null,
   "metadata": {},
   "outputs": [],
   "source": [
    "DAS_channels = list(range(945, 1005))  \n",
    " \n",
    "print(DAS_channels)\n",
    "\n",
    "# Starting value\n",
    "start_value = 80\n",
    "\n",
    "# Step value\n",
    "step_value = 1.02\n",
    "\n",
    "# Number of values\n",
    "num_values = len(DAS_channels)\n",
    "\n",
    "# Generate the list\n",
    "DAS_theoretical = np.round([start_value + i * step_value for i in range(num_values)],3)\n",
    "\n",
    "# Print the list\n",
    "print(DAS_theoretical)\n"
   ]
  },
  {
   "cell_type": "code",
   "execution_count": null,
   "metadata": {},
   "outputs": [],
   "source": [
    "# Plot actual vs predicted values\n",
    "plt.plot(DAS_theoretical, predicted_depth, '.')\n",
    "x = np.linspace(min(DAS_theoretical), max(DAS_theoretical), 100)\n",
    "plt.plot(x, x, '--')  # y = x line\n",
    "plt.xlabel('Actual Values')\n",
    "plt.ylabel('Predicted Values')\n",
    "\n",
    "\n",
    "# Calculate metrics\n",
    "mae = mean_absolute_error(DAS_theoretical, predicted_depth)\n",
    "mse = mean_squared_error(DAS_theoretical, predicted_depth)\n",
    "rmse = np.sqrt(mse)\n",
    "r2 = r2_score(DAS_theoretical, predicted_depth)\n",
    "\n",
    "# Create a string with the statistics\n",
    "stats_text = f\"MAE: {mae:.3f}\\nMSE: {mse:.3f}\\nRMSE: {rmse:.3f}\\nR²: {r2:.3f}\"\n",
    "\n",
    "# Add the text to the plot\n",
    "plt.text(0.05, 0.95, stats_text, transform=plt.gca().transAxes, \n",
    "         fontsize=12, verticalalignment='top', horizontalalignment='left', \n",
    "         bbox=dict(facecolor='white', alpha=0.7, edgecolor='black', boxstyle='round,pad=0.5'))\n",
    "\n",
    "# Show the plot\n",
    "plt.show()\n"
   ]
  },
  {
   "cell_type": "markdown",
   "metadata": {},
   "source": [
    "Plot new depths"
   ]
  },
  {
   "cell_type": "code",
   "execution_count": null,
   "metadata": {},
   "outputs": [],
   "source": [
    "DAS_Database = pd.read_pickle('das_60_70m_offset.pkl')\n",
    "DAS_Database['SHOT_POINT_NO'].unique()\n",
    "\n",
    "# Extract data with specific shot number\n",
    "shot_number = 3155\n",
    "DAS = DAS_Database[DAS_Database['SHOT_POINT_NO'] == shot_number]\n",
    "\n",
    "df_das = DAS\n",
    "\n",
    "# channels from 200 to 300m\n",
    "chan_min = 1079\n",
    "chan_max = 1177\n",
    "\n",
    "# chan_min = 895\n",
    "# chan_max = 993\n",
    "\n",
    "# # all channels from 0 to 334m\n",
    "# chan_min = 881\n",
    "# chan_max = 1211\n",
    "\n",
    "shot_gather_das = df_das[(df_das['CHANNEL_NO'] >= chan_min) & (df_das['CHANNEL_NO'] <= chan_max)]\n",
    "\n",
    "channel_no = np.sort(shot_gather_das['CHANNEL_NO'].unique())\n",
    "times = shot_gather_das['Time'].unique()\n",
    "shot_gather_DAS = shot_gather_das.pivot(index='Time', columns='CHANNEL_NO', values='Amplitude')\n",
    "\n",
    "\n",
    "filtered_shot_gather_das = shot_gather_DAS\n",
    "\n",
    "# Plotting the filtered seismic gather\n",
    "plt.figure(figsize=(12, 6))\n",
    "plt.subplot(1,3,1)\n",
    "plt.ylabel('Time (ms)')\n",
    "plt.xlabel('Channel Number')\n",
    "plt.title(f'DAS Shot Number: {shot_number}')\n",
    "plt.imshow(filtered_shot_gather_das , aspect='auto', cmap='gray', extent=[\n",
    "    channel_no.min(), channel_no.max(), times.max(), times.min()],\n",
    "    vmin=np.percentile(filtered_shot_gather_das , 5),\n",
    "    vmax=np.percentile(filtered_shot_gather_das,95)\n",
    ")    \n",
    "\n",
    "\n",
    "shot_gather_DAS_predict = shot_gather_das.pivot(index='Time', columns='CHANNEL_NO', values='Amplitude')\n",
    "shot_gather_DAS_predict.columns = predicted_depth\n",
    "\n",
    "\n",
    "# Plotting the filtered seismic gather\n",
    "plt.subplot(1,3,2)\n",
    "plt.ylabel('Time (ms)')\n",
    "plt.xlabel('Predicted depth (m)')\n",
    "plt.title(f'DAS Shot Number: {shot_number}')\n",
    "plt.imshow(shot_gather_DAS_predict , aspect='auto', cmap='gray', extent=[\n",
    "    predicted_depth.min(), predicted_depth.max(), times.max(), times.min()],\n",
    "    vmin=np.percentile(shot_gather_DAS_predict , 5),\n",
    "    vmax=np.percentile(shot_gather_DAS_predict,95))\n",
    "\n",
    "\n",
    "# Accelerometer\n",
    "Acc = pd.read_pickle('acc_600ms_Velocity.pkl')\n",
    "\n",
    "Acc['ELEV_REC'] = -1*(Acc['ELEV_REC'] - Acc['ELEV_REC'].max())\n",
    "Acc['ELEV_REC'] = Acc['ELEV_REC'].round(3)\n",
    "\n",
    "#Select data with specific shot number\n",
    "shot = shot_number\n",
    "\n",
    "\n",
    "Acc = Acc[Acc['SHOT_POINT_NO'] == shot]\n",
    "\n",
    "df = Acc\n",
    "\n",
    "shot_gather = df[df['SHOT_POINT_NO'] == shot]\n",
    "\n",
    "depths = np.sort(shot_gather['ELEV_REC'].unique())\n",
    "times = shot_gather['Time'].unique()\n",
    "shot_gather = shot_gather.pivot(index='Time', columns='ELEV_REC', values='Amplitude')\n",
    "\n",
    "\n",
    "filtered_shot_gather = shot_gather\n",
    "\n",
    "highpass_filt_velocity = pd.DataFrame(filtered_shot_gather, columns=depths)\n",
    "\n",
    "    # Velocity to strain rate\n",
    "strainrate_acc = np.zeros_like(highpass_filt_velocity)\n",
    "strainrate_acc_depths = np.zeros((highpass_filt_velocity.shape[1]))\n",
    "\n",
    "for i in range(highpass_filt_velocity.shape[1] - 1):\n",
    "    strainrate_acc[:, i] = (highpass_filt_velocity.iloc[:, i + 1].values - highpass_filt_velocity.iloc[:, i].values) / (highpass_filt_velocity.columns[i + 1] - highpass_filt_velocity.columns[i])\n",
    "    strainrate_acc_depths[i] = highpass_filt_velocity.columns[i] + ((highpass_filt_velocity.columns[i + 1] - highpass_filt_velocity.columns[i]) / 2)\n",
    "\n",
    "filtered_strain_rate = gaussian_filter(strainrate_acc, sigma=7)\n",
    "filtered_strain_rate = pd.DataFrame(filtered_strain_rate, columns=strainrate_acc_depths)\n",
    "filtered_strain_rate = filtered_strain_rate.drop(columns=[0], errors='ignore')\n",
    "filtered_strain_rate = filtered_strain_rate.iloc[::2]\n",
    "filtered_strain_rate = filtered_strain_rate.loc[:, (filtered_strain_rate.columns > 200) & (filtered_strain_rate.columns < 300)] \n",
    "\n",
    "\n",
    "plt.subplot(1, 3,3)\n",
    "plt.ylabel('Time (ms)')\n",
    "plt.xlabel('Depth(m)')\n",
    "plt.title(f'Acc Shot Number: {shot}')\n",
    "plt.imshow(filtered_strain_rate , aspect='auto', cmap='gray', extent=[\n",
    "    filtered_strain_rate.columns.min(), filtered_strain_rate.columns.max(), times.max(), times.min()],\n",
    "    vmin=np.percentile(filtered_strain_rate , 5),\n",
    "    vmax=np.percentile(filtered_strain_rate,95)\n",
    ") \n",
    "\n"
   ]
  },
  {
   "cell_type": "code",
   "execution_count": null,
   "metadata": {},
   "outputs": [],
   "source": [
    "882+78\n",
    "\n",
    "\n"
   ]
  }
 ],
 "metadata": {
  "kernelspec": {
   "display_name": "CREWES",
   "language": "python",
   "name": "python3"
  },
  "language_info": {
   "codemirror_mode": {
    "name": "ipython",
    "version": 3
   },
   "file_extension": ".py",
   "mimetype": "text/x-python",
   "name": "python",
   "nbconvert_exporter": "python",
   "pygments_lexer": "ipython3",
   "version": "3.10.14"
  }
 },
 "nbformat": 4,
 "nbformat_minor": 2
}
